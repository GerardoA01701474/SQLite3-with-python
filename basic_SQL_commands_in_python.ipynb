{
 "cells": [
  {
   "cell_type": "code",
   "execution_count": 1,
   "metadata": {},
   "outputs": [],
   "source": [
    "import sqlite3 \n",
    "connection = sqlite3.connect('sample.db')\n",
    "cursor = connection.cursor()"
   ]
  },
  {
   "cell_type": "code",
   "execution_count": 4,
   "metadata": {},
   "outputs": [
    {
     "name": "stdout",
     "output_type": "stream",
     "text": [
      "(1, 'Norma', 'Johnson')\n",
      "(2, 'Donald', 'Graham')\n",
      "(3, 'Brian', 'Wilson')\n",
      "(4, 'Rebekah', 'Ruiz')\n",
      "(5, 'Melanie', 'Parrish')\n",
      "(6, 'Dakota', 'Gomez')\n",
      "(7, 'Gregory', 'Hood')\n",
      "(8, 'Matthew', 'Webb')\n",
      "(9, 'Ray', 'Russell')\n",
      "(10, 'Kimberly', 'Powell')\n"
     ]
    }
   ],
   "source": [
    "query = 'SELECT * FROM people LIMIT 10'\n",
    "for result in cursor.execute(query):\n",
    "    print(result)\n"
   ]
  },
  {
   "cell_type": "code",
   "execution_count": 5,
   "metadata": {},
   "outputs": [
    {
     "name": "stdout",
     "output_type": "stream",
     "text": [
      "('Norma',)\n",
      "('Donald',)\n",
      "('Brian',)\n",
      "('Rebekah',)\n",
      "('Melanie',)\n",
      "('Dakota',)\n",
      "('Gregory',)\n",
      "('Matthew',)\n",
      "('Ray',)\n",
      "('Kimberly',)\n"
     ]
    }
   ],
   "source": [
    "for result in cursor.execute('SELECT name FROM people LIMIT 10'):\n",
    "    print(result)"
   ]
  },
  {
   "cell_type": "code",
   "execution_count": 19,
   "metadata": {},
   "outputs": [
    {
     "name": "stdout",
     "output_type": "stream",
     "text": [
      "First name: James , Last name: Brooks\n",
      "First name: James , Last name: Wilson\n",
      "First name: James , Last name: Higgins\n",
      "First name: James , Last name: West\n",
      "First name: James , Last name: Brooks\n",
      "First name: James , Last name: Wilson\n",
      "First name: James , Last name: Higgins\n",
      "First name: James , Last name: West\n",
      "First name: James , Last name: Brooks\n",
      "First name: James , Last name: Wilson\n",
      "First name: James , Last name: Higgins\n",
      "First name: James , Last name: West\n",
      "First name: James , Last name: Anderson\n",
      "First name: James , Last name: Petty\n",
      "First name: James , Last name: Contreras\n",
      "First name: James , Last name: Wells\n"
     ]
    }
   ],
   "source": [
    "for result in cursor.execute('SELECT name, surname FROM people WHERE name=\"James\" ORDER BY name DESC'):\n",
    "    print(f\"First name: {result[0]} , Last name: {result[1]}\")"
   ]
  },
  {
   "cell_type": "code",
   "execution_count": 44,
   "metadata": {},
   "outputs": [
    {
     "name": "stdout",
     "output_type": "stream",
     "text": [
      "First name: Elizabeth , Last name: Cummings\n",
      "First name: Elizabeth , Last name: Cummings\n",
      "First name: Elizabeth , Last name: Cummings\n",
      "First name: Elizabeth , Last name: Soto\n",
      "First name: Elizabeth , Last name: Vazquez\n",
      "First name: Elizabeth , Last name: Anderson\n"
     ]
    }
   ],
   "source": [
    "for result in cursor.execute('SELECT name, surname FROM people WHERE name LIKE \"Eliza__t%\"'):\n",
    "    print(f\"First name: {result[0]} , Last name: {result[1]}\")"
   ]
  },
  {
   "cell_type": "code",
   "execution_count": 33,
   "metadata": {},
   "outputs": [
    {
     "name": "stdout",
     "output_type": "stream",
     "text": [
      "First name: Lisa , Last name: Oconnell\n",
      "First name: Lisa , Last name: Gibbs\n",
      "First name: Lisa , Last name: Ortiz\n"
     ]
    }
   ],
   "source": [
    "for result in cursor.execute('SELECT name, surname FROM people WHERE name LIKE \"l___\"'):\n",
    "    print(f\"First name: {result[0]} , Last name: {result[1]}\")"
   ]
  },
  {
   "cell_type": "code",
   "execution_count": null,
   "metadata": {},
   "outputs": [],
   "source": []
  }
 ],
 "metadata": {
  "kernelspec": {
   "display_name": "Python 3",
   "language": "python",
   "name": "python3"
  },
  "language_info": {
   "codemirror_mode": {
    "name": "ipython",
    "version": 3
   },
   "file_extension": ".py",
   "mimetype": "text/x-python",
   "name": "python",
   "nbconvert_exporter": "python",
   "pygments_lexer": "ipython3",
   "version": "3.10.13"
  }
 },
 "nbformat": 4,
 "nbformat_minor": 2
}
